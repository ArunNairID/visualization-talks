{
 "cells": [
  {
   "cell_type": "markdown",
   "metadata": {
    "slideshow": {
     "slide_type": "slide"
    }
   },
   "source": [
    "# D3.js: An introduction"
   ]
  },
  {
   "cell_type": "code",
   "execution_count": 19,
   "metadata": {
    "collapsed": false,
    "slideshow": {
     "slide_type": "skip"
    }
   },
   "outputs": [
    {
     "data": {
      "text/html": [
       "\n",
       "<style>\n",
       ".rendered_html h1{\n",
       "    font-family: \"Roboto\", helvetica;\n",
       "    color: #8896B4; !important\n",
       "}\n",
       ".rendered_html h2{\n",
       "    font-family: \"Roboto\", helvetica;\n",
       "    color: #5C6E95; !important\n",
       "}\n",
       ".rendered_html h3{\n",
       "    font-family: \"Roboto\", helvetica;\n",
       "    color: #3A4E79; !important\n",
       "}\n",
       ".rendered_html li{\n",
       "    font-family: \"Roboto\", helvetica;\n",
       "    color: #0D1F45; !important\n",
       "}\n",
       ".reveal a{\n",
       "    font-family: \"Roboto\", helvetica;\n",
       "    color: #8896B4; !important\n",
       "}\n",
       "#notebook {\n",
       "    background-color: #365776;\n",
       "}\n",
       "</style>\n"
      ],
      "text/plain": [
       "<IPython.core.display.HTML object>"
      ]
     },
     "metadata": {},
     "output_type": "display_data"
    }
   ],
   "source": [
    "# Some styling \n",
    "from IPython.display import display, HTML\n",
    "from IPython.display import IFrame\n",
    "s= \"\"\"\n",
    "<style>\n",
    ".rendered_html h1{\n",
    "    font-family: \"Roboto\", helvetica;\n",
    "    color: #8896B4; !important\n",
    "}\n",
    ".rendered_html h2{\n",
    "    font-family: \"Roboto\", helvetica;\n",
    "    color: #5C6E95; !important\n",
    "}\n",
    ".rendered_html h3{\n",
    "    font-family: \"Roboto\", helvetica;\n",
    "    color: #3A4E79; !important\n",
    "}\n",
    ".rendered_html li{\n",
    "    font-family: \"Roboto\", helvetica;\n",
    "    color: #0D1F45; !important\n",
    "}\n",
    ".reveal a{\n",
    "    font-family: \"Roboto\", helvetica;\n",
    "    color: #8896B4; !important\n",
    "}\n",
    "#notebook {\n",
    "    background-color: #365776;\n",
    "}\n",
    "</style>\n",
    "\"\"\"\n",
    "display(HTML(s))"
   ]
  },
  {
   "cell_type": "markdown",
   "metadata": {
    "collapsed": true,
    "slideshow": {
     "slide_type": "slide"
    }
   },
   "source": [
    "# What's D3.js?"
   ]
  },
  {
   "cell_type": "code",
   "execution_count": 21,
   "metadata": {
    "collapsed": false
   },
   "outputs": [],
   "source": []
  },
  {
   "cell_type": "code",
   "execution_count": 27,
   "metadata": {
    "collapsed": false,
    "slideshow": {
     "slide_type": "subslide"
    }
   },
   "outputs": [
    {
     "data": {
      "text/html": [
       "\n",
       "        <iframe\n",
       "            width=\"800\"\n",
       "            height=\"600\"\n",
       "            src=\"http://d3js.org/\"\n",
       "            frameborder=\"0\"\n",
       "            allowfullscreen\n",
       "        ></iframe>\n",
       "        "
      ],
      "text/plain": [
       "<IPython.lib.display.IFrame at 0x7fe382b50da0>"
      ]
     },
     "execution_count": 27,
     "metadata": {},
     "output_type": "execute_result"
    }
   ],
   "source": [
    "IFrame(\"http://d3js.org/\", width=800, height=600)"
   ]
  },
  {
   "cell_type": "markdown",
   "metadata": {
    "collapsed": true,
    "slideshow": {
     "slide_type": "fragment"
    }
   },
   "source": [
    "* Document "
   ]
  },
  {
   "cell_type": "markdown",
   "metadata": {
    "collapsed": true,
    "slideshow": {
     "slide_type": "fragment"
    }
   },
   "source": [
    "* Data"
   ]
  },
  {
   "cell_type": "markdown",
   "metadata": {
    "collapsed": true,
    "slideshow": {
     "slide_type": "slide"
    }
   },
   "source": [
    "# Why does it matter?"
   ]
  },
  {
   "cell_type": "markdown",
   "metadata": {
    "slideshow": {
     "slide_type": "slide"
    }
   },
   "source": [
    "# How to share D3 creations?"
   ]
  },
  {
   "cell_type": "markdown",
   "metadata": {
    "collapsed": true,
    "slideshow": {
     "slide_type": "notes"
    }
   },
   "source": [
    "What is D3.js\n",
    "How it works\n",
    "Why is it useful and use cases\n",
    "How to share them (check the kickstarter project I have financed). Here is the link: http://blockbuilder.org/ \n",
    "Show a live coding example of how to do one yourself\n",
    "A nice way to explore the d3 API: http://bl.ocksplorer.org/ \n",
    "Show an example of a hex bin plot: http://bl.ocks.org/syntagmatic/1092fe86860def004ea7\n",
    "A list of different projects that could be forked: http://bl.ocks.org/enjalot/raw/211bd42857358a60a936/ \n",
    "The kickstarter project: https://www.kickstarter.com/projects/1058500513/building-blocks-0/posts/1392278\n",
    "Use this map as a supporting example: http://bl.ocks.org/tnightingale/4711787\n",
    "Add this as another great example of a hex bin: http://bl.ocks.org/mbostock/4248145\n",
    "References:\n",
    "Add a reference to scott murray book\n",
    "http://alignedleft.com/tutorials\n",
    "Note: \n",
    "Be careful about the presentation aspect and how things display in the slides (remark by Theo)\n",
    "Try to repeat before hand"
   ]
  },
  {
   "cell_type": "markdown",
   "metadata": {
    "slideshow": {
     "slide_type": "slide"
    }
   },
   "source": [
    "## Some references\n",
    "* The official website: http://d3js.org/\n",
    "* A great set of tutorials: http://alignedleft.com/tutorials"
   ]
  },
  {
   "cell_type": "markdown",
   "metadata": {
    "collapsed": true
   },
   "source": [
    "## Interesting people to follow on Twitter"
   ]
  },
  {
   "cell_type": "code",
   "execution_count": null,
   "metadata": {
    "collapsed": true
   },
   "outputs": [],
   "source": []
  }
 ],
 "metadata": {
  "celltoolbar": "Slideshow",
  "kernelspec": {
   "display_name": "Python 3",
   "language": "python",
   "name": "python3"
  },
  "language_info": {
   "codemirror_mode": {
    "name": "ipython",
    "version": 3
   },
   "file_extension": ".py",
   "mimetype": "text/x-python",
   "name": "python",
   "nbconvert_exporter": "python",
   "pygments_lexer": "ipython3",
   "version": "3.4.3"
  }
 },
 "nbformat": 4,
 "nbformat_minor": 0
}
